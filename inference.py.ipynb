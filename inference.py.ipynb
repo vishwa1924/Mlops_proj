{
 "cells": [
  {
   "cell_type": "code",
   "execution_count": 1,
   "id": "852b4eab",
   "metadata": {},
   "outputs": [
    {
     "name": "stdout",
     "output_type": "stream",
     "text": [
      "Windows-10-10.0.22621-SP0\n",
      "Python 3.9.13 (main, Aug 25 2022, 23:51:50) [MSC v.1916 64 bit (AMD64)]\n",
      "NumPy 1.21.5\n",
      "SciPy 1.9.1\n",
      "Shape of the test data\n",
      "(1300, 160)\n",
      "(1300,)\n",
      "LDA score and classification:\n",
      "0.6915384615384615\n",
      "[ 0  0  0 ... 25 25 25]\n",
      "NN score and classification:\n",
      "0.6615384615384615\n",
      "[ 0  0  0 ... 25 25 24]\n"
     ]
    }
   ],
   "source": [
    "import platform; print(platform.platform())\n",
    "import sys; print(\"Python\", sys.version)\n",
    "import numpy; print(\"NumPy\", numpy.__version__)\n",
    "import scipy; print(\"SciPy\", scipy.__version__)\n",
    "import pickle\n",
    "import os\n",
    "import numpy as np\n",
    "from sklearn.discriminant_analysis import LinearDiscriminantAnalysis\n",
    "from sklearn.neural_network import MLPClassifier\n",
    "import pandas as pd\n",
    "from joblib import dump\n",
    "from sklearn import preprocessing\n",
    "\n",
    "def inference():\n",
    "    dirpath = os.getcwd()\n",
    "    print(\"dirpath = \", dirpath, \"\\n\")\n",
    "\n",
    "    output_path = os.path.join(dirpath,'output.csv')\n",
    "    print(output_path,\"\\n\")\n",
    "    # Load, read and normalize training data\n",
    "    testing = \"test.csv\"\n",
    "    data_test = pd.read_csv(testing)\n",
    "        \n",
    "    y_test = data_test['# Letter'].values\n",
    "    X_test = data_test.drop(data_test.loc[:, 'Line':'# Letter'].columns, axis = 1)\n",
    "   \n",
    "    print(\"Shape of the test data\")\n",
    "    print(X_test.shape)\n",
    "    print(y_test.shape)\n",
    "    \n",
    "    # Data normalization (0,1)\n",
    "    X_test = preprocessing.normalize(X_test, norm='l2')\n",
    "    \n",
    "    # Models training\n",
    "    \n",
    "    # Run model\n",
    "    #loaded_model = pickle.load(open(filename, 'rb'))\n",
    "    clf_lda = pickle.load(open('Inference_lda.joblib','rb'))\n",
    "    print(\"LDA score and classification:\")\n",
    "    print(clf_lda.score(X_test, y_test))\n",
    "    print(clf_lda.predict(X_test))\n",
    "        \n",
    "    # Run model\n",
    "    clf_nn = pickle.load(open('Inference_NN.joblib', 'rb'))\n",
    "    print(\"NN score and classification:\")\n",
    "    print(clf_nn.score(X_test, y_test))\n",
    "    print(clf_nn.predict(X_test))\n",
    "    #X_test.to_csv(output_path)\n",
    "    print(output_path)\n",
    "    pd.DataFrame(X_test).to_csv(output_path)\n",
    "    \n",
    "if __name__ == '__main__':\n",
    "    inference()"
   ]
  },
  {
   "cell_type": "code",
   "execution_count": null,
   "id": "1a7239d7",
   "metadata": {},
   "outputs": [],
   "source": []
  },
  {
   "cell_type": "code",
   "execution_count": null,
   "id": "83d1c715",
   "metadata": {},
   "outputs": [],
   "source": []
  }
 ],
 "metadata": {
  "kernelspec": {
   "display_name": "Python 3 (ipykernel)",
   "language": "python",
   "name": "python3"
  },
  "language_info": {
   "codemirror_mode": {
    "name": "ipython",
    "version": 3
   },
   "file_extension": ".py",
   "mimetype": "text/x-python",
   "name": "python",
   "nbconvert_exporter": "python",
   "pygments_lexer": "ipython3",
   "version": "3.9.13"
  }
 },
 "nbformat": 4,
 "nbformat_minor": 5
}
