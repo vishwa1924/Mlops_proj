{
 "cells": [
  {
   "cell_type": "code",
   "execution_count": 42,
   "id": "d2f798fa",
   "metadata": {},
   "outputs": [
    {
     "name": "stdout",
     "output_type": "stream",
     "text": [
      "Windows-10-10.0.22621-SP0\n",
      "Python 3.9.13 (main, Aug 25 2022, 23:51:50) [MSC v.1916 64 bit (AMD64)]\n",
      "NumPy 1.21.5\n",
      "SciPy 1.9.1\n",
      "Shape of the training data\n",
      "(1300, 160)\n",
      "(1300,)\n"
     ]
    }
   ],
   "source": [
    "import platform; print(platform.platform())\n",
    "import sys; print(\"Python\", sys.version)\n",
    "import numpy; print(\"NumPy\", numpy.__version__)\n",
    "import scipy; print(\"SciPy\", scipy.__version__)\n",
    "\n",
    "import os\n",
    "import numpy as np\n",
    "from sklearn.discriminant_analysis import LinearDiscriminantAnalysis\n",
    "from sklearn.neural_network import MLPClassifier\n",
    "import pandas as pd\n",
    "from joblib import dump\n",
    "from sklearn import preprocessing\n",
    "\n",
    "def train():\n",
    "\n",
    "    # Load, read and normalize training data\n",
    "    training = \"train.csv\"\n",
    "    data_train = pd.read_csv(training)\n",
    "        \n",
    "    y_train = data_train['# Letter'].values\n",
    "    X_train = data_train.drop(data_train.loc[:, 'Line':'# Letter'].columns, axis = 1)\n",
    "\n",
    "    print(\"Shape of the training data\")\n",
    "    print(X_train.shape)\n",
    "    print(y_train.shape)\n",
    "        \n",
    "    # Data normalization (0,1)\n",
    "    X_train = preprocessing.normalize(X_train, norm='l2')\n",
    "    \n",
    "    # Models training\n",
    "    \n",
    "    # Linear Discrimant Analysis (Default parameters)\n",
    "    clf_lda = LinearDiscriminantAnalysis()\n",
    "    clf_lda.fit(X_train, y_train)\n",
    "    \n",
    "    # Save model\n",
    "    filename = 'Inference_lda.joblib'\n",
    "    pickle.dump(clf_lda, open(filename, 'wb'))\n",
    " \n",
    "#     from joblib import dump\n",
    "#     dump(clf_lda, 'Inference_lda.joblib')\n",
    "        \n",
    "    # Neural Networks multi-layer perceptron (MLP) algorithm\n",
    "    clf_NN = MLPClassifier(solver='adam', activation='relu', alpha=0.0001, hidden_layer_sizes=(500,), random_state=0, max_iter=1000)\n",
    "    clf_NN.fit(X_train, y_train)\n",
    "       \n",
    "    # Save model\n",
    "    filename = 'Inference_NN.joblib'\n",
    "    pickle.dump(clf_NN, open(filename, 'wb'))\n",
    "#     from joblib import dump\n",
    "#     dump(clf_NN, 'Inference_NN.joblib')\n",
    "        \n",
    "if __name__ == '__main__':\n",
    "    train()\n"
   ]
  },
  {
   "cell_type": "code",
   "execution_count": 41,
   "id": "981273ab",
   "metadata": {},
   "outputs": [
    {
     "ename": "NameError",
     "evalue": "name 'clf_lda' is not defined",
     "output_type": "error",
     "traceback": [
      "\u001b[1;31m---------------------------------------------------------------------------\u001b[0m",
      "\u001b[1;31mNameError\u001b[0m                                 Traceback (most recent call last)",
      "\u001b[1;32m~\\AppData\\Local\\Temp\\ipykernel_34920\\243998549.py\u001b[0m in \u001b[0;36m<module>\u001b[1;34m\u001b[0m\n\u001b[1;32m----> 1\u001b[1;33m \u001b[0mclf_lda\u001b[0m\u001b[1;33m.\u001b[0m\u001b[0mscore\u001b[0m\u001b[1;33m(\u001b[0m\u001b[0mX_test\u001b[0m\u001b[1;33m,\u001b[0m \u001b[0my_test\u001b[0m\u001b[1;33m)\u001b[0m\u001b[1;33m\u001b[0m\u001b[1;33m\u001b[0m\u001b[0m\n\u001b[0m",
      "\u001b[1;31mNameError\u001b[0m: name 'clf_lda' is not defined"
     ]
    }
   ],
   "source": [
    "clf_lda.score(X_test, y_test)"
   ]
  },
  {
   "cell_type": "code",
   "execution_count": 43,
   "id": "8d460ccf",
   "metadata": {
    "scrolled": true
   },
   "outputs": [
    {
     "name": "stdout",
     "output_type": "stream",
     "text": [
      "Windows-10-10.0.22621-SP0\n",
      "Python 3.9.13 (main, Aug 25 2022, 23:51:50) [MSC v.1916 64 bit (AMD64)]\n",
      "NumPy 1.21.5\n",
      "SciPy 1.9.1\n",
      "Shape of the test data\n",
      "(1300, 160)\n",
      "(1300,)\n",
      "LDA score and classification:\n",
      "0.6915384615384615\n",
      "[ 0  0  0 ... 25 25 25]\n",
      "NN score and classification:\n",
      "0.6615384615384615\n",
      "[ 0  0  0 ... 25 25 24]\n"
     ]
    }
   ],
   "source": []
  },
  {
   "cell_type": "code",
   "execution_count": null,
   "id": "e534f09d",
   "metadata": {},
   "outputs": [],
   "source": [
    "filename = 'finalized_model.sav'\n",
    "pickle.dump(model, open(filename, 'wb'))\n",
    " "
   ]
  }
 ],
 "metadata": {
  "kernelspec": {
   "display_name": "Python 3 (ipykernel)",
   "language": "python",
   "name": "python3"
  },
  "language_info": {
   "codemirror_mode": {
    "name": "ipython",
    "version": 3
   },
   "file_extension": ".py",
   "mimetype": "text/x-python",
   "name": "python",
   "nbconvert_exporter": "python",
   "pygments_lexer": "ipython3",
   "version": "3.9.13"
  }
 },
 "nbformat": 4,
 "nbformat_minor": 5
}
